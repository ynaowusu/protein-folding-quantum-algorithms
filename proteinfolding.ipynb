{
  "nbformat": 4,
  "nbformat_minor": 0,
  "metadata": {
    "colab": {
      "provenance": [],
      "include_colab_link": true
    },
    "kernelspec": {
      "name": "python3",
      "display_name": "Python 3"
    },
    "language_info": {
      "name": "python"
    }
  },
  "cells": [
    {
      "cell_type": "markdown",
      "metadata": {
        "id": "view-in-github",
        "colab_type": "text"
      },
      "source": [
        "<a href=\"https://colab.research.google.com/github/ynaowusu/protein-folding-quantum-algorithms/blob/main/proteinfolding.ipynb\" target=\"_parent\"><img src=\"https://colab.research.google.com/assets/colab-badge.svg\" alt=\"Open In Colab\"/></a>"
      ]
    },
    {
      "cell_type": "code",
      "execution_count": 2,
      "metadata": {
        "id": "_uy-8D8aIPRy",
        "colab": {
          "base_uri": "https://localhost:8080/"
        },
        "outputId": "b20843b5-5342-4314-fd1d-d79b7500cad5"
      },
      "outputs": [
        {
          "output_type": "stream",
          "name": "stdout",
          "text": [
            "Collecting qiskit\n",
            "  Downloading qiskit-2.1.1-cp39-abi3-manylinux_2_17_x86_64.manylinux2014_x86_64.whl.metadata (12 kB)\n",
            "Collecting rustworkx>=0.15.0 (from qiskit)\n",
            "  Downloading rustworkx-0.16.0-cp39-abi3-manylinux_2_17_x86_64.manylinux2014_x86_64.whl.metadata (10 kB)\n",
            "Requirement already satisfied: numpy<3,>=1.17 in /usr/local/lib/python3.11/dist-packages (from qiskit) (2.0.2)\n",
            "Requirement already satisfied: scipy>=1.5 in /usr/local/lib/python3.11/dist-packages (from qiskit) (1.15.3)\n",
            "Requirement already satisfied: dill>=0.3 in /usr/local/lib/python3.11/dist-packages (from qiskit) (0.3.7)\n",
            "Collecting stevedore>=3.0.0 (from qiskit)\n",
            "  Downloading stevedore-5.4.1-py3-none-any.whl.metadata (2.3 kB)\n",
            "Requirement already satisfied: typing-extensions in /usr/local/lib/python3.11/dist-packages (from qiskit) (4.14.1)\n",
            "Collecting pbr>=2.0.0 (from stevedore>=3.0.0->qiskit)\n",
            "  Downloading pbr-6.1.1-py2.py3-none-any.whl.metadata (3.4 kB)\n",
            "Requirement already satisfied: setuptools in /usr/local/lib/python3.11/dist-packages (from pbr>=2.0.0->stevedore>=3.0.0->qiskit) (75.2.0)\n",
            "Downloading qiskit-2.1.1-cp39-abi3-manylinux_2_17_x86_64.manylinux2014_x86_64.whl (7.5 MB)\n",
            "\u001b[2K   \u001b[90m━━━━━━━━━━━━━━━━━━━━━━━━━━━━━━━━━━━━━━━━\u001b[0m \u001b[32m7.5/7.5 MB\u001b[0m \u001b[31m78.0 MB/s\u001b[0m eta \u001b[36m0:00:00\u001b[0m\n",
            "\u001b[?25hDownloading rustworkx-0.16.0-cp39-abi3-manylinux_2_17_x86_64.manylinux2014_x86_64.whl (2.1 MB)\n",
            "\u001b[2K   \u001b[90m━━━━━━━━━━━━━━━━━━━━━━━━━━━━━━━━━━━━━━━━\u001b[0m \u001b[32m2.1/2.1 MB\u001b[0m \u001b[31m70.8 MB/s\u001b[0m eta \u001b[36m0:00:00\u001b[0m\n",
            "\u001b[?25hDownloading stevedore-5.4.1-py3-none-any.whl (49 kB)\n",
            "\u001b[2K   \u001b[90m━━━━━━━━━━━━━━━━━━━━━━━━━━━━━━━━━━━━━━━━\u001b[0m \u001b[32m49.5/49.5 kB\u001b[0m \u001b[31m3.1 MB/s\u001b[0m eta \u001b[36m0:00:00\u001b[0m\n",
            "\u001b[?25hDownloading pbr-6.1.1-py2.py3-none-any.whl (108 kB)\n",
            "\u001b[2K   \u001b[90m━━━━━━━━━━━━━━━━━━━━━━━━━━━━━━━━━━━━━━━━\u001b[0m \u001b[32m109.0/109.0 kB\u001b[0m \u001b[31m7.3 MB/s\u001b[0m eta \u001b[36m0:00:00\u001b[0m\n",
            "\u001b[?25hInstalling collected packages: rustworkx, pbr, stevedore, qiskit\n",
            "Successfully installed pbr-6.1.1 qiskit-2.1.1 rustworkx-0.16.0 stevedore-5.4.1\n",
            "Requirement already satisfied: matplotlib in /usr/local/lib/python3.11/dist-packages (3.10.0)\n",
            "Requirement already satisfied: plotly in /usr/local/lib/python3.11/dist-packages (5.24.1)\n",
            "Requirement already satisfied: contourpy>=1.0.1 in /usr/local/lib/python3.11/dist-packages (from matplotlib) (1.3.2)\n",
            "Requirement already satisfied: cycler>=0.10 in /usr/local/lib/python3.11/dist-packages (from matplotlib) (0.12.1)\n",
            "Requirement already satisfied: fonttools>=4.22.0 in /usr/local/lib/python3.11/dist-packages (from matplotlib) (4.58.5)\n",
            "Requirement already satisfied: kiwisolver>=1.3.1 in /usr/local/lib/python3.11/dist-packages (from matplotlib) (1.4.8)\n",
            "Requirement already satisfied: numpy>=1.23 in /usr/local/lib/python3.11/dist-packages (from matplotlib) (2.0.2)\n",
            "Requirement already satisfied: packaging>=20.0 in /usr/local/lib/python3.11/dist-packages (from matplotlib) (25.0)\n",
            "Requirement already satisfied: pillow>=8 in /usr/local/lib/python3.11/dist-packages (from matplotlib) (11.2.1)\n",
            "Requirement already satisfied: pyparsing>=2.3.1 in /usr/local/lib/python3.11/dist-packages (from matplotlib) (3.2.3)\n",
            "Requirement already satisfied: python-dateutil>=2.7 in /usr/local/lib/python3.11/dist-packages (from matplotlib) (2.9.0.post0)\n",
            "Requirement already satisfied: tenacity>=6.2.0 in /usr/local/lib/python3.11/dist-packages (from plotly) (8.5.0)\n",
            "Requirement already satisfied: six>=1.5 in /usr/local/lib/python3.11/dist-packages (from python-dateutil>=2.7->matplotlib) (1.17.0)\n",
            "Requirement already satisfied: numpy in /usr/local/lib/python3.11/dist-packages (2.0.2)\n"
          ]
        }
      ],
      "source": [
        "!pip install qiskit #this is just me intalling qiskit into our notebook\n",
        "!pip install matplotlib plotly #since it says we need a 3d structure to simulate the lattice and any other 3d elements\n",
        "!pip install numpy\n"
      ]
    },
    {
      "cell_type": "code",
      "source": [],
      "metadata": {
        "id": "I4fLssgd0SkR"
      },
      "execution_count": 2,
      "outputs": []
    },
    {
      "cell_type": "code",
      "source": [
        "import numpy as np\n",
        "import matplotlib.pyplot as plt\n",
        "from mpl_toolkits.mplot3d import Axes3D\n",
        "import random\n"
      ],
      "metadata": {
        "id": "OXPR9O11glG9"
      },
      "execution_count": 3,
      "outputs": []
    },
    {
      "cell_type": "code",
      "source": [
        "\"\"\"\n",
        "        proteins fold in 3D space and here we're working with a simplified lattice model w tetrahedral directions. There are two kinds of alternating sites in the protein chain: 'A' and 'B'.\n",
        "        every turn corresponds to a direction in 3D space either x,y or z\n",
        "        The vectors  [1, 1, 1]) are unit steps in different directions based on the protein structure model.\n",
        "\"\"\"\n",
        "\n",
        "class ProtienFoldVector:\n",
        "  def __init_(self):\n",
        "    self.lattice_vector = {\n",
        "        \"A\":{\n",
        "            0:[(1,1,1)], #|00> This is for the first round of qubits reprsents x,y,z\n",
        "            1:[(1,-1,-1)], #|10>\n",
        "            2:[(-1,1,-1)], #|01>\n",
        "            3:[(-1,-1,-1)] #|11>\n",
        "        },\n",
        "        \"B\":{\n",
        "            0:[(1,1,-1)], #|00>\n",
        "            1:[(1,-1,1)], #|10>\n",
        "            2:[(-1,1,1)], #|01>\n",
        "            3:[(-1,-1,-1)] #11>\n",
        "        }\n",
        "\n",
        "\n",
        "\n",
        "\n",
        "\n",
        "    }\n",
        "\n",
        "    pass\n",
        "\n",
        "\n",
        "    #vectors go here\n"
      ],
      "metadata": {
        "id": "fxc4UoD4jusn"
      },
      "execution_count": 4,
      "outputs": []
    },
    {
      "cell_type": "code",
      "source": [
        "#hamiltonian functions\n",
        "\n",
        "\n",
        "# t_i and t_j are vectors\n",
        "# we decode the bit string and supply indices i and j directly.\n",
        "#for each pair of beads i and j, T(i,j ) returns a 1 iff the turns t1 and tj are along the same axis\n",
        "#we need this for the growth constrainst function\n",
        "#we need this to prevrent the growth of the chain towards unphysical geometries\n",
        "\n",
        "\n",
        "\n",
        "def T(t_i,t_j):\n",
        "  if np.array_equal(t_i,t_j) or np.array_equal(t_i, -t_j) :\n",
        "    return 1\n",
        "  else:\n",
        "    return 0\n",
        "\n",
        "def test_T_function():\n",
        "  assert T(np.array([1,1,1]),np.array([1,1,1]))== 1\n",
        "  assert T(np.array([-1,-1,-1]),np.array([-1,-1,-1]))== 1\n",
        "  assert T(np.array([1,1,1]),np.array([-1,-1,-1]))== 1\n",
        "\n",
        "  assert T(np.array([1,-1,-1]),np.array([1,1,-1]))== 0\n",
        "  assert T(np.array([-1,1,-1]),np.array([-1,-1,-1]))== 0\n",
        "\n",
        "  print(\"all test_t_function tests passed\")\n",
        "test_T_function()\n",
        "\n",
        "'''\n",
        "because there are somethings we do not have implemented yet, growth_constraint_hamiltonian is a bit hardcoded\n",
        "what growth constaint does is it eliminates sequences where the same axis\n",
        "is chosen twice in a row, since this will give rise to a chain folding back onto itself.\n",
        "turns is for now a placeholder but it  supposed to be a chain and so we will decode the measured qubits to then get the backbone turns\n",
        "for the particular fold and then if some consecutive pairs share an axis, then the penalty which here is 30 will apply\n",
        "N is the length of the peptide chain which is the number of amino-acid residues\n",
        "\n",
        "'''\n",
        "amino_acid_sequence = ([1,2,3,4,5,6])\n",
        "N = random.choice(amino_acid_sequence)\n",
        "def growth_constraint_Hamiltonian():\n",
        "  H_gc = 0\n",
        "  penalty_weight = 30\n",
        "  turns = [np.array([1,1,1]),np.array([1,1,1]), np.array([1,-1,-1]),np.array([-1,-1,1]),np.array([1,1,-1]),np.array([1, -1,-1]),np.array([-1,-1,1])]\n",
        "  for i in range(3, N - 1):\n",
        "     same_axis = T(turns[i], turns[i + 1])\n",
        "     H_gc += 30 * same_axis\n",
        "  return H_gc\n",
        "growth_constraint_Hamiltonian()"
      ],
      "metadata": {
        "id": "sDJHBkhEtZtr",
        "colab": {
          "base_uri": "https://localhost:8080/"
        },
        "outputId": "21c8098f-2546-490d-f135-a5370e2d36aa"
      },
      "execution_count": 5,
      "outputs": [
        {
          "output_type": "stream",
          "name": "stdout",
          "text": [
            "all test_t_function tests passed\n"
          ]
        },
        {
          "output_type": "execute_result",
          "data": {
            "text/plain": [
              "0"
            ]
          },
          "metadata": {},
          "execution_count": 5
        }
      ]
    },
    {
      "cell_type": "code",
      "source": [
        "#the methods we creae will be used to fold protein model with 6 and 8\n",
        "#amino acid sequences on 3D lattice\n",
        "amino_acid_sequence = ([6,7,8])\n",
        "N = random.choice(amino_acid_sequence)\n",
        "print(N)"
      ],
      "metadata": {
        "id": "Dnqv_fQtPnlN",
        "colab": {
          "base_uri": "https://localhost:8080/"
        },
        "outputId": "78e1c0a4-ab32-42a5-bae3-eae591a87fc9"
      },
      "execution_count": 6,
      "outputs": [
        {
          "output_type": "stream",
          "name": "stdout",
          "text": [
            "7\n"
          ]
        }
      ]
    },
    {
      "cell_type": "code",
      "source": [
        "from qiskit import QuantumCircuit\n",
        "\n",
        "class CVARVQE:\n",
        "\n",
        "    def __init__(self, hamiltonian, alpha = 0.1):\n",
        "        # self is just the initializer\n",
        "        # the hamiltonian calculates the amount of energy it takes to form any given protein configuration.\n",
        "        # this is important because the optimizer needs a way to evaluate how \"good\" or \"bad\" a quantum circuit’s result is.\n",
        "        # alpha = 0.1 means CVaR will only average the best 10% of outputs.\n",
        "        self.hamiltonian = hamiltonian  # Save the energy calculator\n",
        "        self.alpha = alpha              # Only use the best 10% of folds\n",
        "        self.n_qubits = hamiltonian.total_qubits  # Know how many qubits to use in the circuit\n",
        "\n",
        "    def create_ansatz(self, params):\n",
        "        qc = QuantumCircuit(self.n_qubits)\n",
        "        # This creates a quantum circuit with the number of qubits based on the protein\n",
        "\n",
        "        # Step 1: Put each qubit into superposition using Hadamard gates\n",
        "        for i in range(self.n_qubits):\n",
        "            qc.h(i)  # Hadamard gate turns each qubit into a mix of 0 and 1\n",
        "\n",
        "        # Step 2: Add a rotation gate to each qubit (this is how we \"teach\" the circuit how to fold the protein)\n",
        "        param_1 = 0  # Keeps track of which parameter we're using from the list\n",
        "\n",
        "        for i in range(self.n_qubits):\n",
        "            qc.ry(params[param_1], i)  # apply RY (Y-axis) rotation to qubit i using params[param_1]\n",
        "            param_1 += 1  # Move to the next angle in the list\n",
        "\n",
        "        for i in range(self.n_qubits - 1): #what this is is that it's making a CNOT gate to make an entanglement between two qubits\n",
        "          qc.cx(i, i+ 1 ) #this entanglement lets qubits share information which is important because in proteins, one fold affects nearby folds.\n",
        "\n",
        "        for i in range(self.n_qubits):\n",
        "          qc.ry(params[param_1], i) #this is a repeat of the other line of code that just rotates the qubit again after the cnot entangled gate is applied\n",
        "          param_1 += 1 #the reason it's roated again is so that the portien can fold in more complex ways.\n",
        "\n",
        "\n",
        "        return qc  # Return the final circuit\n",
        "    def evaluate_energy(self, params, n_shots = 2000):\n",
        "      #this function will be based around evalauting the energy of the circuit.\n",
        "      #it takes in the list of angles from a cirq, nshot is for how many times the cirq should run and it returns an energy score.\n",
        "      qc = self.create_ansatz(params) #this is used to build a qunatum circuit with the angles from the previous function\n",
        "      qc.add_register(ClassicalRegister(self.n_qubits)) #this clasical register is a storage unit designed to hold classical bits, which represent binary states or bitstring of (0 and 1s)\n",
        "      qc.measure_all() #this tells the quantum circuit to measure every qubit so a bitstring is outputted like 0101 0r 10101\n",
        "      #baicallty what this says is measure all the incomign qubits then place them in the classical register\n",
        "\n",
        "      sample = Sampler() #what this does is run the circuit and gives us the data\n",
        "      job = sample.run(qc, shots = n_shots) #what this does is run the ciruit 2000 times to see all of the differnt bitstrings it'll output. so run it 2k times and collect the outcome\n",
        "      result = job_result() #this gets the data from the run\n",
        "\n",
        "      counts = result.quasi_dists[0] #this gives you the oputput in dictonioary form. quasi_dists stands for quasi-probability distributions.\n",
        "      # as an output it could like this [{0: 0.05, 1: 0.10, 2: 0.25, 3: 0.60}] That means Bitstring 000 (0) came up ~5% of the time bitstring 001 (1) ~10% Bitstring 010 (2) ~25% bitstring 011 (3) ~60%\n",
        "      #overall it basically means get the outcome probabilities from the first circuit run, so I can loop through each bitstring and score it based on how well it folded the protein.\n",
        "      energies = [] #This is a list to store energy values for each output\n",
        "\n",
        "      for bitstring, count in counts.itme(): #this loops through each result and its probabilty\n",
        "        binary_str = format(bitstring, f'0{self.n_qubits}b') #what this is basically doing is taking the integer bitstring and turn it into a nice, full-length binary string (like '0101') that matches the number of qubits we're using.\n",
        "\n",
        "        #heres an example of what happens If self.n_qubits = 4, and bitstring = 3, then: format(3, '04b') → '0011'\n",
        "\n",
        "        energy = self.hamiltonian.total_hamiltonian(binary_str) #so with this line, what it's doing is calling the hamitlontian to calcute the energy the bitstring takes. so for exmapl if we have a bitstirng of like 0011, the energy used to make the fold is 2.5. it stakes 2.5 units to hold that shape.\n",
        "\n",
        "        energies.extend([energy] * int(count * n_shots)) #so this is adding energy values to a list multiple times, depending on how often that folding showed up in the simulation.\n",
        "        #for example Let’s say this fold showed up 30% of the time (count = 0.3) n_shots = 2000, this means 0.3 * 2000 = 200 times You add [energy] * 300 → so this energy gets added 300 times and so now the list reflects how often each folding happened\n",
        "        energies = np.array(energies) #what this is doing is that it it converts the list of energies into a numPy array so we can use numPy functions like sort() and mean().\n",
        "        energies.sort() #it sorts all of the energy values from ascending order from low to high\n",
        "\n",
        "        cutoff_in = int(len(energies) * self.alpha) #\n",
        "        if cutoff_idx == 0:\n",
        "            cutoff_idx = 1  # Always keep at least 1\n",
        "\n",
        "        # Average the best energies to get our CVaR value\n",
        "        cvar_energy = np.mean(energies[:cutoff_idx])\n",
        "\n",
        "        return cvar_energy  # Lower is better\n",
        "    def optimize(self, initial_params=None, maxiter=100):\n",
        "        \"\"\"\n",
        "        Try different parameter values to find the ones that give the lowest CVaR energy.\n",
        "\n",
        "        initial_params: Starting guess. If not given, we pick random angles.\n",
        "        maxiter: How many times to try new parameters.\n",
        "\n",
        "        Returns the best parameters and their corresponding energy.\n",
        "        \"\"\"\n",
        "        # If we don’t have a starting guess, create random parameters\n",
        "        if initial_params is None:\n",
        "            initial_params = np.random.uniform(0, 2 * np.pi, 2 * self.n_qubits)\n",
        "\n",
        "        # Use a classical algorithm (COBYLA) to minimize the energy\n",
        "        result = minimize(\n",
        "            self.evaluate_energy,         # What we're trying to minimize\n",
        "            initial_params,               # Starting guess\n",
        "            method='COBYLA',              # Optimization algorithm\n",
        "            options={'maxiter': maxiter}  # How many steps to take\n",
        "        )\n",
        "\n",
        "        return result.x, result.fun  # Return best params and best energy\n",
        "\n",
        "\n",
        "\n",
        "\n",
        "\n",
        "\n",
        "\n",
        "\n"
      ],
      "metadata": {
        "id": "OH5DoiUo0Tx5"
      },
      "execution_count": 14,
      "outputs": []
    },
    {
      "cell_type": "code",
      "source": [],
      "metadata": {
        "id": "kXSl8HpVfy9B"
      },
      "execution_count": 14,
      "outputs": []
    },
    {
      "cell_type": "markdown",
      "source": [],
      "metadata": {
        "id": "1RIg99SFnCJ2"
      }
    }
  ]
}