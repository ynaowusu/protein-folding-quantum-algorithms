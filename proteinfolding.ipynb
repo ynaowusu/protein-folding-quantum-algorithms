{
  "nbformat": 4,
  "nbformat_minor": 0,
  "metadata": {
    "colab": {
      "provenance": [],
      "include_colab_link": true
    },
    "kernelspec": {
      "name": "python3",
      "display_name": "Python 3"
    },
    "language_info": {
      "name": "python"
    }
  },
  "cells": [
    {
      "cell_type": "markdown",
      "metadata": {
        "id": "view-in-github",
        "colab_type": "text"
      },
      "source": [
        "<a href=\"https://colab.research.google.com/github/ynaowusu/protein-folding-quantum-algorithms/blob/main/proteinfolding.ipynb\" target=\"_parent\"><img src=\"https://colab.research.google.com/assets/colab-badge.svg\" alt=\"Open In Colab\"/></a>"
      ]
    },
    {
      "cell_type": "code",
      "execution_count": 11,
      "metadata": {
        "id": "_uy-8D8aIPRy",
        "colab": {
          "base_uri": "https://localhost:8080/"
        },
        "outputId": "1ccc6b74-2bc8-466b-a67f-26b8e35798ac"
      },
      "outputs": [
        {
          "output_type": "stream",
          "name": "stdout",
          "text": [
            "Requirement already satisfied: qiskit in /usr/local/lib/python3.11/dist-packages (2.1.1)\n",
            "Requirement already satisfied: rustworkx>=0.15.0 in /usr/local/lib/python3.11/dist-packages (from qiskit) (0.16.0)\n",
            "Requirement already satisfied: numpy<3,>=1.17 in /usr/local/lib/python3.11/dist-packages (from qiskit) (2.0.2)\n",
            "Requirement already satisfied: scipy>=1.5 in /usr/local/lib/python3.11/dist-packages (from qiskit) (1.15.3)\n",
            "Requirement already satisfied: dill>=0.3 in /usr/local/lib/python3.11/dist-packages (from qiskit) (0.3.7)\n",
            "Requirement already satisfied: stevedore>=3.0.0 in /usr/local/lib/python3.11/dist-packages (from qiskit) (5.4.1)\n",
            "Requirement already satisfied: typing-extensions in /usr/local/lib/python3.11/dist-packages (from qiskit) (4.14.1)\n",
            "Requirement already satisfied: pbr>=2.0.0 in /usr/local/lib/python3.11/dist-packages (from stevedore>=3.0.0->qiskit) (6.1.1)\n",
            "Requirement already satisfied: setuptools in /usr/local/lib/python3.11/dist-packages (from pbr>=2.0.0->stevedore>=3.0.0->qiskit) (75.2.0)\n",
            "Requirement already satisfied: matplotlib in /usr/local/lib/python3.11/dist-packages (3.10.0)\n",
            "Requirement already satisfied: plotly in /usr/local/lib/python3.11/dist-packages (5.24.1)\n",
            "Requirement already satisfied: contourpy>=1.0.1 in /usr/local/lib/python3.11/dist-packages (from matplotlib) (1.3.2)\n",
            "Requirement already satisfied: cycler>=0.10 in /usr/local/lib/python3.11/dist-packages (from matplotlib) (0.12.1)\n",
            "Requirement already satisfied: fonttools>=4.22.0 in /usr/local/lib/python3.11/dist-packages (from matplotlib) (4.58.5)\n",
            "Requirement already satisfied: kiwisolver>=1.3.1 in /usr/local/lib/python3.11/dist-packages (from matplotlib) (1.4.8)\n",
            "Requirement already satisfied: numpy>=1.23 in /usr/local/lib/python3.11/dist-packages (from matplotlib) (2.0.2)\n",
            "Requirement already satisfied: packaging>=20.0 in /usr/local/lib/python3.11/dist-packages (from matplotlib) (24.2)\n",
            "Requirement already satisfied: pillow>=8 in /usr/local/lib/python3.11/dist-packages (from matplotlib) (11.2.1)\n",
            "Requirement already satisfied: pyparsing>=2.3.1 in /usr/local/lib/python3.11/dist-packages (from matplotlib) (3.2.3)\n",
            "Requirement already satisfied: python-dateutil>=2.7 in /usr/local/lib/python3.11/dist-packages (from matplotlib) (2.9.0.post0)\n",
            "Requirement already satisfied: tenacity>=6.2.0 in /usr/local/lib/python3.11/dist-packages (from plotly) (8.5.0)\n",
            "Requirement already satisfied: six>=1.5 in /usr/local/lib/python3.11/dist-packages (from python-dateutil>=2.7->matplotlib) (1.17.0)\n",
            "Requirement already satisfied: numpy in /usr/local/lib/python3.11/dist-packages (2.0.2)\n"
          ]
        }
      ],
      "source": [
        "!pip install qiskit #this is just me intalling qiskit into our notebook\n",
        "!pip install matplotlib plotly #since it says we need a 3d structure to simulate the lattice and any other 3d elements\n",
        "!pip install numpy\n"
      ]
    },
    {
      "cell_type": "code",
      "source": [],
      "metadata": {
        "id": "I4fLssgd0SkR"
      },
      "execution_count": 11,
      "outputs": []
    },
    {
      "cell_type": "code",
      "source": [
        "import numpy as np\n",
        "import matplotlib.pyplot as plt\n",
        "from mpl_toolkits.mplot3d import Axes3D\n",
        "import random\n"
      ],
      "metadata": {
        "id": "OXPR9O11glG9"
      },
      "execution_count": 12,
      "outputs": []
    },
    {
      "cell_type": "code",
      "source": [
        "\"\"\"\n",
        "        proteins fold in 3D space and here we're working with a simplified lattice model w tetrahedral directions. There are two kinds of alternating sites in the protein chain: 'A' and 'B'.\n",
        "        every turn corresponds to a direction in 3D space either x,y or z\n",
        "        The vectors  [1, 1, 1]) are unit steps in different directions based on the protein structure model.\n",
        "\"\"\"\n",
        "\n",
        "class ProtienFoldVector:\n",
        "  def __init_(self):\n",
        "    self.lattice_vector = {\n",
        "        \"A\":{\n",
        "            0:[(1,1,1)], #|00> This is for the first round of qubits reprsents x,y,z\n",
        "            1:[(1,-1,-1)], #|10>\n",
        "            2:[(-1,1,-1)], #|01>\n",
        "            3:[(-1,-1,-1)] #|11>\n",
        "        },\n",
        "        \"B\":{\n",
        "            0:[(1,1,-1)], #|00>\n",
        "            1:[(1,-1,1)], #|10>\n",
        "            2:[(-1,1,1)], #|01>\n",
        "            3:[(-1,-1,-1)] #11>\n",
        "        }\n",
        "\n",
        "\n",
        "\n",
        "\n",
        "\n",
        "    }\n",
        "\n",
        "    pass\n",
        "\n",
        "\n",
        "    #vectors go here\n"
      ],
      "metadata": {
        "id": "fxc4UoD4jusn"
      },
      "execution_count": 13,
      "outputs": []
    },
    {
      "cell_type": "code",
      "source": [
        "#hamiltonian functions\n",
        "\n",
        "\n",
        "# t_i and t_j are vectors\n",
        "# we decode the bit string and supply indices i and j directly.\n",
        "#for each pair of beads i and j, T(i,j ) returns a 1 iff the turns t1 and tj are along the same axis\n",
        "#we need this for the growth constrainst function\n",
        "#we need this to prevrent the growth of the chain towards unphysical geometries\n",
        "\n",
        "\n",
        "\n",
        "def T(t_i,t_j):\n",
        "  if np.array_equal(t_i,t_j) or np.array_equal(t_i, -t_j) :\n",
        "    return 1\n",
        "  else:\n",
        "    return 0\n",
        "\n",
        "def test_T_function():\n",
        "  assert T(np.array([1,1,1]),np.array([1,1,1]))== 1\n",
        "  assert T(np.array([-1,-1,-1]),np.array([-1,-1,-1]))== 1\n",
        "  assert T(np.array([1,1,1]),np.array([-1,-1,-1]))== 1\n",
        "\n",
        "  assert T(np.array([1,-1,-1]),np.array([1,1,-1]))== 0\n",
        "  assert T(np.array([-1,1,-1]),np.array([-1,-1,-1]))== 0\n",
        "\n",
        "  print(\"all test_t_function tests passed\")\n",
        "test_T_function()\n",
        "\n",
        "'''\n",
        "because there are somethings we do not have implemented yet, growth_constraint_hamiltonian is a bit hardcoded\n",
        "what growth constaint does is it eliminates sequences where the same axis\n",
        "is chosen twice in a row, since this will give rise to a chain folding back onto itself.\n",
        "turns is for now a placeholder but it  supposed to be a chain and so we will decode the measured qubits to then get the backbone turns\n",
        "for the particular fold and then if some consecutive pairs share an axis, then the penalty which here is 30 will apply\n",
        "N is the length of the peptide chain which is the number of amino-acid residues\n",
        "\n",
        "'''\n",
        "amino_acid_sequence = ([1,2,3,4,5,6])\n",
        "N = random.choice(amino_acid_sequence)\n",
        "def growth_constraint_Hamiltonian():\n",
        "  H_gc = 0\n",
        "  penalty_weight = 30\n",
        "  turns = [np.array([1,1,1]),np.array([1,1,1]), np.array([1,-1,-1]),np.array([-1,-1,1]),np.array([1,1,-1]),np.array([1, -1,-1]),np.array([-1,-1,1])]\n",
        "  for i in range(3, N - 1):\n",
        "     same_axis = T(turns[i], turns[i + 1])\n",
        "     H_gc += 30 * same_axis\n",
        "  return H_gc\n",
        "growth_constraint_Hamiltonian()"
      ],
      "metadata": {
        "id": "sDJHBkhEtZtr",
        "colab": {
          "base_uri": "https://localhost:8080/"
        },
        "outputId": "ff794008-f8bd-4d38-b3d8-2babb116970d"
      },
      "execution_count": 14,
      "outputs": [
        {
          "output_type": "stream",
          "name": "stdout",
          "text": [
            "all test_t_function tests passed\n"
          ]
        },
        {
          "output_type": "execute_result",
          "data": {
            "text/plain": [
              "0"
            ]
          },
          "metadata": {},
          "execution_count": 14
        }
      ]
    },
    {
      "cell_type": "code",
      "source": [
        "#the methods we creae will be used to fold protein model with 6 and 8\n",
        "#amino acid sequences on 3D lattice\n",
        "amino_acid_sequence = ([6,7,8])\n",
        "N = random.choice(amino_acid_sequence)\n",
        "print(N)"
      ],
      "metadata": {
        "id": "Dnqv_fQtPnlN",
        "colab": {
          "base_uri": "https://localhost:8080/"
        },
        "outputId": "00f98be5-9af7-4ab4-c44c-f6f46538debe"
      },
      "execution_count": 15,
      "outputs": [
        {
          "output_type": "stream",
          "name": "stdout",
          "text": [
            "8\n"
          ]
        }
      ]
    },
    {
      "cell_type": "code",
      "source": [
        "from qiskit import QuantumCircuit\n",
        "\n",
        "class CVARVQE:\n",
        "\n",
        "    def __init__(self, hamiltonian, alpha = 0.1):\n",
        "        # self is just the initializer\n",
        "        # the hamiltonian calculates the amount of energy it takes to form any given protein configuration.\n",
        "        # this is important because the optimizer needs a way to evaluate how \"good\" or \"bad\" a quantum circuit’s result is.\n",
        "        # alpha = 0.1 means CVaR will only average the best 10% of outputs.\n",
        "        self.hamiltonian = hamiltonian  # Save the energy calculator\n",
        "        self.alpha = alpha              # Only use the best 10% of folds\n",
        "        self.n_qubits = hamiltonian.total_qubits  # Know how many qubits to use in the circuit\n",
        "\n",
        "    def create_ansatz(self, params):\n",
        "        qc = QuantumCircuit(self.n_qubits)\n",
        "        # This creates a quantum circuit with the number of qubits based on the protein\n",
        "\n",
        "        # Step 1: Put each qubit into superposition using Hadamard gates\n",
        "        for i in range(self.n_qubits):\n",
        "            qc.h(i)  # Hadamard gate turns each qubit into a mix of 0 and 1\n",
        "\n",
        "        # Step 2: Add a rotation gate to each qubit (this is how we \"teach\" the circuit how to fold the protein)\n",
        "        param_1 = 0  # Keeps track of which parameter we're using from the list\n",
        "\n",
        "        for i in range(self.n_qubits):\n",
        "            qc.ry(params[param_1], i)  # apply RY (Y-axis) rotation to qubit i using params[param_1]\n",
        "            param_1 += 1  # Move to the next angle in the list\n",
        "\n",
        "        for i in range(self.n_qubits - 1): #what this is is that it's making a CNOT gate to make an entanglement between two qubits\n",
        "          qc.cx(i, i+ 1 ) #this entanglement lets qubits share information which is important because in proteins, one fold affects nearby folds.\n",
        "\n",
        "        for i in range(self.n_qubits):\n",
        "          qc.ry(params[param_1], i) #this is a repeat of the other line of code that just rotates the qubit again after the cnot entangled gate is applied\n",
        "          param_1 += 1\n",
        "\n",
        "\n",
        "        return qc  # Return the final circuit\n",
        "    def evaluate_energy(self, params, n_shots = 2000):\n",
        "      #this function will be based around evalauting the energy of the circuit.\n",
        "      #it takes in the list of angles from a cirq, nshot is for how many times the cirq should run and it returns an energy score.\n",
        "      qc = self.create_ansatz(params)#\n",
        "\n",
        "\n",
        "\n",
        "\n"
      ],
      "metadata": {
        "id": "OH5DoiUo0Tx5"
      },
      "execution_count": 19,
      "outputs": []
    },
    {
      "cell_type": "markdown",
      "source": [],
      "metadata": {
        "id": "1RIg99SFnCJ2"
      }
    }
  ]
}