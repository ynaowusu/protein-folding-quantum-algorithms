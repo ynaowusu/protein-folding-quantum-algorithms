{
  "nbformat": 4,
  "nbformat_minor": 0,
  "metadata": {
    "colab": {
      "provenance": [],
      "include_colab_link": true
    },
    "kernelspec": {
      "name": "python3",
      "display_name": "Python 3"
    },
    "language_info": {
      "name": "python"
    }
  },
  "cells": [
    {
      "cell_type": "markdown",
      "metadata": {
        "id": "view-in-github",
        "colab_type": "text"
      },
      "source": [
        "<a href=\"https://colab.research.google.com/github/ynaowusu/protein-folding-quantum-algorithms/blob/main/Copy_of_proteinfolding.ipynb\" target=\"_parent\"><img src=\"https://colab.research.google.com/assets/colab-badge.svg\" alt=\"Open In Colab\"/></a>"
      ]
    },
    {
      "cell_type": "code",
      "execution_count": null,
      "metadata": {
        "id": "_uy-8D8aIPRy",
        "colab": {
          "base_uri": "https://localhost:8080/"
        },
        "outputId": "9ded0c20-57d6-4aab-d85f-0a87895c0bbc"
      },
      "outputs": [
        {
          "output_type": "stream",
          "name": "stdout",
          "text": [
            "Collecting qiskit\n",
            "  Downloading qiskit-2.1.0-cp39-abi3-manylinux_2_17_x86_64.manylinux2014_x86_64.whl.metadata (12 kB)\n",
            "Collecting rustworkx>=0.15.0 (from qiskit)\n",
            "  Downloading rustworkx-0.16.0-cp39-abi3-manylinux_2_17_x86_64.manylinux2014_x86_64.whl.metadata (10 kB)\n",
            "Requirement already satisfied: numpy<3,>=1.17 in /usr/local/lib/python3.11/dist-packages (from qiskit) (2.0.2)\n",
            "Requirement already satisfied: scipy>=1.5 in /usr/local/lib/python3.11/dist-packages (from qiskit) (1.15.3)\n",
            "Requirement already satisfied: dill>=0.3 in /usr/local/lib/python3.11/dist-packages (from qiskit) (0.3.7)\n",
            "Collecting stevedore>=3.0.0 (from qiskit)\n",
            "  Downloading stevedore-5.4.1-py3-none-any.whl.metadata (2.3 kB)\n",
            "Requirement already satisfied: typing-extensions in /usr/local/lib/python3.11/dist-packages (from qiskit) (4.14.0)\n",
            "Collecting pbr>=2.0.0 (from stevedore>=3.0.0->qiskit)\n",
            "  Downloading pbr-6.1.1-py2.py3-none-any.whl.metadata (3.4 kB)\n",
            "Requirement already satisfied: setuptools in /usr/local/lib/python3.11/dist-packages (from pbr>=2.0.0->stevedore>=3.0.0->qiskit) (75.2.0)\n",
            "Downloading qiskit-2.1.0-cp39-abi3-manylinux_2_17_x86_64.manylinux2014_x86_64.whl (7.5 MB)\n",
            "\u001b[2K   \u001b[90m━━━━━━━━━━━━━━━━━━━━━━━━━━━━━━━━━━━━━━━━\u001b[0m \u001b[32m7.5/7.5 MB\u001b[0m \u001b[31m50.0 MB/s\u001b[0m eta \u001b[36m0:00:00\u001b[0m\n",
            "\u001b[?25hDownloading rustworkx-0.16.0-cp39-abi3-manylinux_2_17_x86_64.manylinux2014_x86_64.whl (2.1 MB)\n",
            "\u001b[2K   \u001b[90m━━━━━━━━━━━━━━━━━━━━━━━━━━━━━━━━━━━━━━━━\u001b[0m \u001b[32m2.1/2.1 MB\u001b[0m \u001b[31m62.9 MB/s\u001b[0m eta \u001b[36m0:00:00\u001b[0m\n",
            "\u001b[?25hDownloading stevedore-5.4.1-py3-none-any.whl (49 kB)\n",
            "\u001b[2K   \u001b[90m━━━━━━━━━━━━━━━━━━━━━━━━━━━━━━━━━━━━━━━━\u001b[0m \u001b[32m49.5/49.5 kB\u001b[0m \u001b[31m3.3 MB/s\u001b[0m eta \u001b[36m0:00:00\u001b[0m\n",
            "\u001b[?25hDownloading pbr-6.1.1-py2.py3-none-any.whl (108 kB)\n",
            "\u001b[2K   \u001b[90m━━━━━━━━━━━━━━━━━━━━━━━━━━━━━━━━━━━━━━━━\u001b[0m \u001b[32m109.0/109.0 kB\u001b[0m \u001b[31m8.7 MB/s\u001b[0m eta \u001b[36m0:00:00\u001b[0m\n",
            "\u001b[?25hInstalling collected packages: rustworkx, pbr, stevedore, qiskit\n",
            "Successfully installed pbr-6.1.1 qiskit-2.1.0 rustworkx-0.16.0 stevedore-5.4.1\n",
            "Requirement already satisfied: matplotlib in /usr/local/lib/python3.11/dist-packages (3.10.0)\n",
            "Requirement already satisfied: plotly in /usr/local/lib/python3.11/dist-packages (5.24.1)\n",
            "Requirement already satisfied: contourpy>=1.0.1 in /usr/local/lib/python3.11/dist-packages (from matplotlib) (1.3.2)\n",
            "Requirement already satisfied: cycler>=0.10 in /usr/local/lib/python3.11/dist-packages (from matplotlib) (0.12.1)\n",
            "Requirement already satisfied: fonttools>=4.22.0 in /usr/local/lib/python3.11/dist-packages (from matplotlib) (4.58.4)\n",
            "Requirement already satisfied: kiwisolver>=1.3.1 in /usr/local/lib/python3.11/dist-packages (from matplotlib) (1.4.8)\n",
            "Requirement already satisfied: numpy>=1.23 in /usr/local/lib/python3.11/dist-packages (from matplotlib) (2.0.2)\n",
            "Requirement already satisfied: packaging>=20.0 in /usr/local/lib/python3.11/dist-packages (from matplotlib) (24.2)\n",
            "Requirement already satisfied: pillow>=8 in /usr/local/lib/python3.11/dist-packages (from matplotlib) (11.2.1)\n",
            "Requirement already satisfied: pyparsing>=2.3.1 in /usr/local/lib/python3.11/dist-packages (from matplotlib) (3.2.3)\n",
            "Requirement already satisfied: python-dateutil>=2.7 in /usr/local/lib/python3.11/dist-packages (from matplotlib) (2.9.0.post0)\n",
            "Requirement already satisfied: tenacity>=6.2.0 in /usr/local/lib/python3.11/dist-packages (from plotly) (8.5.0)\n",
            "Requirement already satisfied: six>=1.5 in /usr/local/lib/python3.11/dist-packages (from python-dateutil>=2.7->matplotlib) (1.17.0)\n",
            "Requirement already satisfied: numpy in /usr/local/lib/python3.11/dist-packages (2.0.2)\n"
          ]
        }
      ],
      "source": [
        "!pip install qiskit #this is just me intalling qiskit into our notebook\n",
        "!pip install matplotlib plotly #since it says we need a 3d structure to simulate the lattice and any other 3d elements\n",
        "!pip install numpy\n"
      ]
    },
    {
      "cell_type": "code",
      "source": [
        "import numpy as np\n",
        "import matplotlib.pyplot as plt\n",
        "from mpl_toolkits.mplot3d import Axes3D\n",
        "import random\n"
      ],
      "metadata": {
        "id": "OXPR9O11glG9"
      },
      "execution_count": null,
      "outputs": []
    },
    {
      "cell_type": "code",
      "source": [
        "class ProtienFoldVector: #added a class here because the vector encdoings can be seen as an object\n",
        "  def __init_(self):\n",
        "    self.lattice_vector = {\n",
        "        \"A\":{\n",
        "            0:[(1,1,1)], #|00> This is for the first round of qubits reprsents x,y,z\n",
        "            1:[(1,-1,-1)], #|10>\n",
        "            2:[(-1,1,-1)], #|01>\n",
        "            3:[(-1,-1,-1)] #|11>\n",
        "        },\n",
        "        \"B\":{\n",
        "            0:[(1,1,-1)], #|00>\n",
        "            1:[(1,-1,1)], #|10>\n",
        "            2:[(-1,1,1)], #|01>\n",
        "            3:[(-1,-1,-1)] #11>\n",
        "        }\n",
        "    }\n",
        "\n",
        "\n",
        "        #proteins fold in 3D space and here we're working with a simplified lattice model w tetrahedral directions. There are two kinds of alternating sites in the protein chain: 'A' and 'B'.\n",
        "        #every turn corresponds to a direction in 3D space either x,y or z\n",
        "        #The vectors  [1, 1, 1]) are unit steps in different directions based on the protein structure model.\n",
        "\n",
        "\n",
        "\n",
        "\n",
        "\n",
        "\n",
        "\n",
        "    pass\n",
        "\n",
        "\n",
        "    #vectors go here\n"
      ],
      "metadata": {
        "id": "fxc4UoD4jusn"
      },
      "execution_count": null,
      "outputs": []
    },
    {
      "cell_type": "code",
      "source": [
        "#hamiltonian functions\n",
        "\n",
        "\n",
        "# t_i and t_j are vectors\n",
        "# we decode the bit string and supply indices i and j directly.\n",
        "#for each pair of beads i and j, T(i,j ) returns a 1 iff the turns t1 and tj are along the same axis\n",
        "#we need this for the growth constrainst function\n",
        "#we need this to prevrent the growth of the chain towards unphysical geometries\n",
        "\n",
        "\n",
        "\n",
        "def T(t_i,t_j):\n",
        "  if np.array_equal(t_i,t_j) or np.array_equal(t_i, -t_j) :\n",
        "    return 1\n",
        "  else:\n",
        "    return 0\n",
        "\n",
        "def test_T_function():\n",
        "  assert T(np.array([1,1,1]),np.array([1,1,1]))== 1\n",
        "  assert T(np.array([-1,-1,-1]),np.array([-1,-1,-1]))== 1\n",
        "  assert T(np.array([1,1,1]),np.array([-1,-1,-1]))== 1\n",
        "\n",
        "  assert T(np.array([1,-1,-1]),np.array([1,1,-1]))== 0\n",
        "  assert T(np.array([-1,1,-1]),np.array([-1,-1,-1]))== 0\n",
        "\n",
        "  print(\"all test_t_function tests passed\")\n",
        "  test_T_function()\n",
        "\n",
        "'''\n",
        "because there are somethings we do not have implemented yet, growth_constraint_hamiltonian is a bit hardcoded\n",
        "what growth constaint does is it eliminates sequences where the same axis\n",
        "is chosen twice in a row, since this will give rise to a chain folding back onto itself.\n",
        "turns is for now a placeholder but it  supposed to be a chain and so we will decode the measured qubits to then get the backbone turns\n",
        "for the particular fold and then if some consecutive pairs share an axis, then the penalty which here is 30 will apply\n",
        "N is the length of the peptide chain which is the number of amino-acid residues\n",
        "\n",
        "'''\n",
        "amino_acid_sequence = ([1,2,3,4,5,6])\n",
        "N = random.choice(amino_acid_sequence)\n",
        "def growth_constraint_Hamiltonian():\n",
        "  H_gc = 0\n",
        "  penalty_weight = 30\n",
        "  turns = [np.array([1,1,1]),np.array([1,1,1]), np.array([1,-1,-1]),np.array([-1,-1,1]),np.array([1,1,-1]),np.array([1, -1,-1]),np.array([-1,-1,1])]\n",
        "  for i in range(3, N - 1):\n",
        "     same_axis = T(turns[i], turns[i + 1])\n",
        "     H_gc += 30 * same_axis\n",
        "  return H_gc\n",
        "growth_constraint_Hamiltonian()"
      ],
      "metadata": {
        "id": "sDJHBkhEtZtr"
      },
      "execution_count": null,
      "outputs": []
    },
    {
      "cell_type": "code",
      "source": [],
      "metadata": {
        "id": "3JcJApum00gq"
      },
      "execution_count": null,
      "outputs": []
    },
    {
      "cell_type": "code",
      "source": [
        "#the methods we creae will be used to fold protein model with 6 and 8\n",
        "#amino acid sequences on 3D lattice\n",
        "amino_acid_sequence = ([6,7,8])\n",
        "N = random.choice(amino_acid_sequence)\n",
        "print(N)"
      ],
      "metadata": {
        "id": "Dnqv_fQtPnlN",
        "colab": {
          "base_uri": "https://localhost:8080/",
          "height": 198
        },
        "outputId": "1b187bba-82b7-44bb-b5a6-0100b5a622d0"
      },
      "execution_count": null,
      "outputs": [
        {
          "output_type": "error",
          "ename": "NameError",
          "evalue": "name 'random' is not defined",
          "traceback": [
            "\u001b[0;31m---------------------------------------------------------------------------\u001b[0m",
            "\u001b[0;31mNameError\u001b[0m                                 Traceback (most recent call last)",
            "\u001b[0;32m/tmp/ipython-input-4-571935681.py\u001b[0m in \u001b[0;36m<cell line: 0>\u001b[0;34m()\u001b[0m\n\u001b[1;32m      2\u001b[0m \u001b[0;31m#amino acid sequences on 3D lattice\u001b[0m\u001b[0;34m\u001b[0m\u001b[0;34m\u001b[0m\u001b[0m\n\u001b[1;32m      3\u001b[0m \u001b[0mamino_acid_sequence\u001b[0m \u001b[0;34m=\u001b[0m \u001b[0;34m(\u001b[0m\u001b[0;34m[\u001b[0m\u001b[0;36m6\u001b[0m\u001b[0;34m,\u001b[0m\u001b[0;36m7\u001b[0m\u001b[0;34m,\u001b[0m\u001b[0;36m8\u001b[0m\u001b[0;34m]\u001b[0m\u001b[0;34m)\u001b[0m\u001b[0;34m\u001b[0m\u001b[0;34m\u001b[0m\u001b[0m\n\u001b[0;32m----> 4\u001b[0;31m \u001b[0mN\u001b[0m \u001b[0;34m=\u001b[0m \u001b[0mrandom\u001b[0m\u001b[0;34m.\u001b[0m\u001b[0mchoice\u001b[0m\u001b[0;34m(\u001b[0m\u001b[0mamino_acid_sequence\u001b[0m\u001b[0;34m)\u001b[0m\u001b[0;34m\u001b[0m\u001b[0;34m\u001b[0m\u001b[0m\n\u001b[0m\u001b[1;32m      5\u001b[0m \u001b[0mprint\u001b[0m\u001b[0;34m(\u001b[0m\u001b[0mN\u001b[0m\u001b[0;34m)\u001b[0m\u001b[0;34m\u001b[0m\u001b[0;34m\u001b[0m\u001b[0m\n",
            "\u001b[0;31mNameError\u001b[0m: name 'random' is not defined"
          ]
        }
      ]
    },
    {
      "cell_type": "code",
      "source": [
        "class CVARVQE:\n",
        "   \"\"\"\n",
        "    This is a special kind of quantum optimizer that we got from the paper written by Robert\n",
        "    instead of averaging all results, it focuses only on the best lowest energy outcomes which makes it better for understanding prolems like protien folding\n",
        "    \"\"\"\n",
        "    def __init__(self, hamiltonian, alpha = 0.1):\n",
        "      #self is just the initializer\n",
        "      #the hamiltonain in this case calcualtes the amount of energy it takes to formulate any given protien configuration.\n",
        "      #"
      ],
      "metadata": {
        "id": "w1orZizu01Iv"
      },
      "execution_count": null,
      "outputs": []
    },
    {
      "cell_type": "markdown",
      "source": [],
      "metadata": {
        "id": "1RIg99SFnCJ2"
      }
    }
  ]
}